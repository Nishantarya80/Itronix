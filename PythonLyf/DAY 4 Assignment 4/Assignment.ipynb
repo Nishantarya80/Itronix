{
 "cells": [
  {
   "cell_type": "code",
   "execution_count": 2,
   "metadata": {},
   "outputs": [],
   "source": [
    "def signup():\n",
    "    Name=input(\"enter ur name \")\n",
    "    Email=input(\"enter ur email \")\n",
    "    Pass=input(\"enter ur password \")\n",
    "    ph_no=input(\"enter ur ph_no \")\n",
    "    city=input(\"enter ur city \")\n",
    "    \n",
    "    fo=open(Email+\".txt\",\"w\")\n",
    "    fo.write(Name+\"\\n\"+Email+\"\\n\"+Pass+\"\\n\"+ph_no+\"\\n\"+city)\n",
    "    fo.close()  "
   ]
  },
  {
   "cell_type": "code",
   "execution_count": 1,
   "metadata": {},
   "outputs": [],
   "source": [
    "def otpGen():\n",
    "    import random \n",
    "    a = random.randint(1000,9999)\n",
    "    otp = \"Your OTP is \"+str(a)\n",
    "    return a"
   ]
  },
  {
   "cell_type": "code",
   "execution_count": 4,
   "metadata": {},
   "outputs": [],
   "source": [
    "def msgsender(ph_no,otp):\n",
    "    from twilio.rest import Client\n",
    "    # Your account sid amd auth token from twilio.com\n",
    "    account_sid = 'AC04722b09688352de4ad63be76abd2300'\n",
    "    auth_token = 'f300a4df2a3a36952a3766ef01a1b16e'\n",
    "    client = Client(account_sid, auth_token)\n",
    "\n",
    "    message = client.messages.create(\n",
    "                         body=otp,\n",
    "                         from_='+17192248901',\n",
    "                         to=ph_no\n",
    "                        )\n",
    "    print(\"OTP send \"+message.sid)"
   ]
  },
  {
   "cell_type": "code",
   "execution_count": 5,
   "metadata": {},
   "outputs": [],
   "source": [
    "def signin():\n",
    "    Email=input(\"enter ur email \")\n",
    "    \n",
    "    \n",
    "    l=[]\n",
    "     \n",
    "    fo=open(Email+\".txt\",\"r\")\n",
    "    text= fo.read()\n",
    "    fo.close()\n",
    "    l=text\n",
    "    l= l.split(\"\\n\")\n",
    "    v=True\n",
    "    i=1\n",
    "    while v:\n",
    "        Pass=input(\"enter ur pass \")\n",
    "        if Pass == l[2]:\n",
    "            otp=otpGen()\n",
    "            msgsender(l[3],otp)\n",
    "            print(otp)\n",
    "            get_otp=int(input(\"enter otp \"))\n",
    "        \n",
    "            if get_otp == otp:\n",
    "                print(\"signed in\")\n",
    "                v= False\n",
    "            else :\n",
    "                print(\"wrong otp\")\n",
    "        else:\n",
    "            print(\"wrong password\")\n",
    "            i=i+1\n",
    "            if i>3:\n",
    "                v= False\n",
    "                forget()\n",
    "            "
   ]
  },
  {
   "cell_type": "code",
   "execution_count": 3,
   "metadata": {},
   "outputs": [],
   "source": [
    "def forget():\n",
    "    Email=input(\"enter ur email \") \n",
    "    \n",
    "    l=[]\n",
    "     \n",
    "    fo=open(Email+\".txt\",\"r\")\n",
    "    text= fo.read()\n",
    "    fo.close()\n",
    "    l=text\n",
    "    l= l.split(\"\\n\")\n",
    "    otp=otpGen()\n",
    "    msgsender(l[3],otp)\n",
    "    print(otp)\n",
    "    get_otp=int(input(\"enter otp \"))\n",
    "    \n",
    "    if get_otp == otp:\n",
    "            Npass=input(\"enter new password \")\n",
    "            l[2]=Npass\n",
    "            l = \"\\n\".join(l)\n",
    "            \n",
    "            fo=open(Email+\".txt\",\"w\")\n",
    "            fo.write(str(l))\n",
    "            fo.close()\n",
    "            print(\"Password reseted\")\n",
    "    else :\n",
    "            print(\"wrong otp\")\n",
    "           "
   ]
  },
  {
   "cell_type": "code",
   "execution_count": 9,
   "metadata": {},
   "outputs": [
    {
     "name": "stdout",
     "output_type": "stream",
     "text": [
      "press 1 for sign_up\n",
      "press 2 for log_in\n",
      "enter : 2\n",
      "enter ur email nishantarya80@gmail.com\n",
      "enter ur pass anshu\n",
      "wrong password\n",
      "enter ur pass anshu\n",
      "wrong password\n",
      "enter ur pass anshu\n",
      "wrong password\n",
      "enter ur email nishantarya80@gmail.com\n",
      "OTP send SM9101dc712ca1450991fdbc772b65f8d1\n",
      "4144\n",
      "enter otp 4144\n",
      "enter new password anshu80\n",
      "Password reseted\n"
     ]
    }
   ],
   "source": [
    "print(\"press 1 for sign_up\")\n",
    "print(\"press 2 for log_in\")\n",
    "\n",
    "option = int(input(\"enter : \"))\n",
    "if option == 1:\n",
    "    signup()\n",
    "else:    \n",
    "    signin()"
   ]
  }
 ],
 "metadata": {
  "kernelspec": {
   "display_name": "Python 3",
   "language": "python",
   "name": "python3"
  },
  "language_info": {
   "codemirror_mode": {
    "name": "ipython",
    "version": 3
   },
   "file_extension": ".py",
   "mimetype": "text/x-python",
   "name": "python",
   "nbconvert_exporter": "python",
   "pygments_lexer": "ipython3",
   "version": "3.6.8"
  }
 },
 "nbformat": 4,
 "nbformat_minor": 2
}
