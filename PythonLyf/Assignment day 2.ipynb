{
 "cells": [
  {
   "cell_type": "markdown",
   "metadata": {},
   "source": [
    "# Question 1"
   ]
  },
  {
   "cell_type": "code",
   "execution_count": 1,
   "metadata": {
    "scrolled": true
   },
   "outputs": [
    {
     "name": "stdout",
     "output_type": "stream",
     "text": [
      "enter no7\n",
      "1\n",
      "2\n",
      "3\n",
      "4\n",
      "5\n",
      "6\n",
      "7\n"
     ]
    }
   ],
   "source": [
    "n =int(input(\"enter no\"))\n",
    "for i in range(1,n+1):\n",
    "    print (i)"
   ]
  },
  {
   "cell_type": "markdown",
   "metadata": {},
   "source": [
    "# Sum of the no in loop"
   ]
  },
  {
   "cell_type": "code",
   "execution_count": 15,
   "metadata": {},
   "outputs": [
    {
     "name": "stdout",
     "output_type": "stream",
     "text": [
      "enter no23\n",
      "276\n"
     ]
    }
   ],
   "source": [
    "n =int(input(\"enter no\"))\n",
    "a=0\n",
    "for i in range(1,n+1):\n",
    "          a+=i\n",
    "print (a)"
   ]
  },
  {
   "cell_type": "markdown",
   "metadata": {},
   "source": [
    "# Factorial of no"
   ]
  },
  {
   "cell_type": "code",
   "execution_count": 5,
   "metadata": {},
   "outputs": [
    {
     "name": "stdout",
     "output_type": "stream",
     "text": [
      "enter no5\n",
      "120\n"
     ]
    }
   ],
   "source": [
    "n =int(input(\"enter no\"))\n",
    "a=1\n",
    "if n>0:\n",
    "    for i in range(1,n+1):\n",
    "        a*=i\n",
    "    print (a)    \n",
    "else :\n",
    "    print (\"0\")"
   ]
  },
  {
   "cell_type": "markdown",
   "metadata": {},
   "source": [
    "# Sum of no."
   ]
  },
  {
   "cell_type": "code",
   "execution_count": 1,
   "metadata": {},
   "outputs": [
    {
     "name": "stdout",
     "output_type": "stream",
     "text": [
      "enter no123\n",
      "6\n"
     ]
    }
   ],
   "source": [
    "n = int(input(\"enter no\"))\n",
    "sum=0\n",
    "while(n!=0):\n",
    "    sum=sum+n%10\n",
    "    n=n//10\n",
    "print (sum)"
   ]
  },
  {
   "cell_type": "markdown",
   "metadata": {},
   "source": [
    "# Reverse of no"
   ]
  },
  {
   "cell_type": "code",
   "execution_count": 4,
   "metadata": {},
   "outputs": [
    {
     "name": "stdout",
     "output_type": "stream",
     "text": [
      "enter no123\n",
      "321\n"
     ]
    }
   ],
   "source": [
    "n = int(input(\"enter no\"))\n",
    "mul=0\n",
    "while(n!=0):\n",
    "    mul*=10\n",
    "    mul+=n%10\n",
    "    n=n//10\n",
    "print (mul)"
   ]
  },
  {
   "cell_type": "markdown",
   "metadata": {},
   "source": [
    "# Palindrome "
   ]
  },
  {
   "cell_type": "code",
   "execution_count": 8,
   "metadata": {},
   "outputs": [
    {
     "name": "stdout",
     "output_type": "stream",
     "text": [
      "enter no123\n",
      "123  is not palindrome\n"
     ]
    }
   ],
   "source": [
    "n = int(input(\"enter no\"))\n",
    "m=n\n",
    "mul=0\n",
    "while(n!=0):\n",
    "    mul*=10\n",
    "    mul+=n%10\n",
    "    n=n//10\n",
    "if mul is m:\n",
    "    print (m, \" is palindrome\")\n",
    "else:\n",
    "    print (m, \" is not palindrome\")"
   ]
  },
  {
   "cell_type": "markdown",
   "metadata": {},
   "source": [
    "# Fibonacci"
   ]
  },
  {
   "cell_type": "code",
   "execution_count": 14,
   "metadata": {},
   "outputs": [
    {
     "name": "stdout",
     "output_type": "stream",
     "text": [
      "enter no5\n",
      "0\n",
      "1\n",
      "1\n",
      "2\n",
      "3\n"
     ]
    }
   ],
   "source": [
    "n = int(input(\"enter no\"))\n",
    "a=0\n",
    "b=1\n",
    "c=1\n",
    "print(a)\n",
    "print(b)\n",
    "for i in range(1,n-1):\n",
    "        c=a+b \n",
    "        print(c)\n",
    "        a=b \n",
    "        b=c\n",
    "        \n",
    "        \n",
    "    "
   ]
  },
  {
   "cell_type": "code",
   "execution_count": 12,
   "metadata": {},
   "outputs": [
    {
     "name": "stdout",
     "output_type": "stream",
     "text": [
      "enter no5\n",
      "\n",
      "1 \n",
      "1 2 \n",
      "1 2 3 \n",
      "1 2 3 4 \n",
      "1 2 3 4 5 \n",
      "\n",
      "5 4 3 2 1 \n",
      "4 3 2 1 \n",
      "3 2 1 \n",
      "2 1 \n",
      "1 \n"
     ]
    }
   ],
   "source": [
    "n=int(input(\"enter no\"))\n",
    "for i in range(1,n+2):\n",
    "    for j in range(1,i):\n",
    "        print(j,end=\" \")\n",
    "    print()   \n",
    "print()   \n",
    "for i in range(5,0,-1):\n",
    "    for j in range(i,0,-1):\n",
    "        print(j,end=\" \")\n",
    "    print()    \n",
    "    "
   ]
  },
  {
   "cell_type": "code",
   "execution_count": 19,
   "metadata": {},
   "outputs": [
    {
     "name": "stdout",
     "output_type": "stream",
     "text": [
      "\n",
      "1 \n",
      "2 3 \n",
      "4 5 6 \n",
      "7 8 9 10 \n",
      "11 12 13 14 15 \n"
     ]
    }
   ],
   "source": [
    "a=1\n",
    "for i in range(1,7):\n",
    " for j in range(1,i):\n",
    "    print(a,end=\" \")\n",
    "    a=a+1\n",
    " print()   \n",
    "    "
   ]
  },
  {
   "cell_type": "code",
   "execution_count": 55,
   "metadata": {},
   "outputs": [
    {
     "name": "stdout",
     "output_type": "stream",
     "text": [
      "\n",
      "          1 \n",
      "        1 2 1 \n",
      "      1 2 3 2 1 \n",
      "    1 2 3 4 3 2 1 \n",
      "  1 2 3 4 5 4 3 2 1 \n",
      "1 2 3 4 5 6 5 4 3 2 1 \n"
     ]
    }
   ],
   "source": [
    "for i in range(0,7):\n",
    "    if i>0:\n",
    "        for k in range (6,i,-1):\n",
    "            print(\" \",end=\" \")\n",
    "        for j in range(1,i):\n",
    "            print(j,end=\" \")   \n",
    "    for j in range(i,0,-1):\n",
    "        print(j,end=\" \")\n",
    "    print()    \n",
    "\n",
    "    "
   ]
  },
  {
   "cell_type": "code",
   "execution_count": 80,
   "metadata": {},
   "outputs": [
    {
     "name": "stdout",
     "output_type": "stream",
     "text": [
      "7 6 5 4 3 2 1 1 2 3 4 5 6 7 \n",
      "7 6 5 4 3 2     2 3 4 5 6 7 \n",
      "7 6 5 4 3         3 4 5 6 7 \n",
      "7 6 5 4             4 5 6 7 \n",
      "7 6 5                 5 6 7 \n",
      "7 6                     6 7 \n",
      "7                         7 \n"
     ]
    }
   ],
   "source": [
    "for i in range(0,7):\n",
    "    for j in range (7,i,-1):\n",
    "        print(j,end=\" \")\n",
    "    for j in range (0,i): \n",
    "        print(\" \",end=\" \")\n",
    "    for j in range (0,i):\n",
    "        print(\" \",end=\" \")\n",
    "    for j in range (i+1, 8):\n",
    "        print(j,end=\" \")\n",
    "    print()   "
   ]
  },
  {
   "cell_type": "code",
   "execution_count": null,
   "metadata": {},
   "outputs": [],
   "source": []
  }
 ],
 "metadata": {
  "kernelspec": {
   "display_name": "Python 3",
   "language": "python",
   "name": "python3"
  },
  "language_info": {
   "codemirror_mode": {
    "name": "ipython",
    "version": 3
   },
   "file_extension": ".py",
   "mimetype": "text/x-python",
   "name": "python",
   "nbconvert_exporter": "python",
   "pygments_lexer": "ipython3",
   "version": "3.6.8"
  }
 },
 "nbformat": 4,
 "nbformat_minor": 2
}
