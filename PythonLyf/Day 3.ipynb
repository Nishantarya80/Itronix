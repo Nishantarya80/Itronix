{
 "cells": [
  {
   "cell_type": "markdown",
   "metadata": {},
   "source": [
    "# Day 3"
   ]
  },
  {
   "cell_type": "markdown",
   "metadata": {},
   "source": [
    "## Function\n",
    "- No argument no r\n",
    "- with argument no return\n",
    "- with argument and r"
   ]
  },
  {
   "cell_type": "code",
   "execution_count": 2,
   "metadata": {},
   "outputs": [
    {
     "name": "stdout",
     "output_type": "stream",
     "text": [
      "3\n",
      "4\n",
      "7\n"
     ]
    }
   ],
   "source": [
    "def sum():\n",
    "    a= int(input())\n",
    "    b= int(input())\n",
    "    c=a+b\n",
    "    print(c)\n",
    "sum()    "
   ]
  },
  {
   "cell_type": "markdown",
   "metadata": {},
   "source": [
    "# Email through python"
   ]
  },
  {
   "cell_type": "code",
   "execution_count": 1,
   "metadata": {},
   "outputs": [
    {
     "data": {
      "text/plain": [
       "(221, b'2.0.0 closing connection b7sm101471437pfa.52 - gsmtp')"
      ]
     },
     "execution_count": 1,
     "metadata": {},
     "output_type": "execute_result"
    }
   ],
   "source": [
    "def BulkyMail():\n",
    "    import smtplib\n",
    "    server = smtplib.SMTP('smtp.gmail.com', 587)\n",
    "    server.starttls()\n",
    "    server.login(\"swiftsnoop@gmail.com\",\"cohesiveforce\")\n",
    "    msg= \"this is test email from python\"\n",
    "    server.sendmail(\"swiftsnoop@gmail.com\",\"nishantarya80@gmail.com\",msg)\n",
    "    server.quit()"
   ]
  },
  {
   "cell_type": "markdown",
   "metadata": {},
   "source": [
    "# twilio\n"
   ]
  },
  {
   "cell_type": "code",
   "execution_count": 2,
   "metadata": {},
   "outputs": [
    {
     "name": "stdout",
     "output_type": "stream",
     "text": [
      "SM35ae640089c04e15a1cea0e558ab2bd0\n",
      "CA5b6a58067d6ad97fc057768e9446861f\n"
     ]
    }
   ],
   "source": [
    "from twilio.rest import Client\n",
    "import random \n",
    "a = random.randint(1000,9999)\n",
    "otp = \"Your OTP is \"+str(a)\n",
    "# Your account sid amd auth token from twilio.com\n",
    "account_sid = 'AC04722b09688352de4ad63be76abd2300'\n",
    "auth_token = 'f300a4df2a3a36952a3766ef01a1b16e'\n",
    "client = Client(account_sid, auth_token)\n",
    "\n",
    "message = client.messages.create(\n",
    "                     body=otp,\n",
    "                     from_='+17192248901',\n",
    "                     to='+916239116169'\n",
    "                 )\n",
    "\n",
    "print(message.sid)\n",
    "\n",
    "call = client.calls.create(\n",
    "    from_='+17192248901',\n",
    "    to='+916239116169',\n",
    "    url=\"http://demo.twilio.com/docs/voice.xml\"\n",
    ")\n",
    "\n",
    "print(call.sid)"
   ]
  },
  {
   "cell_type": "markdown",
   "metadata": {},
   "source": [
    "# User login"
   ]
  },
  {
   "cell_type": "code",
   "execution_count": 3,
   "metadata": {},
   "outputs": [
    {
     "name": "stdout",
     "output_type": "stream",
     "text": [
      "Plz enter unique user name nishantarya\n",
      "plz enter ur email nishantarya80@gmail.com\n",
      "plz enter ur Ph.no. +916239116169\n",
      "Conforming... \n",
      "OTP send SMcea6a98ead124b6d9abeb83c92f19477\n",
      "2938\n",
      "Enter O.T.P we send u to ur mantioned E-Mail and Ph.no2938\n",
      "conformed.\n",
      "Wellcome nishantarya ur call is on the way\n",
      "calling...CAdca8d4c144a24ef8ee00c214ca630836\n"
     ]
    }
   ],
   "source": [
    "user_name=input(\"Plz enter unique user name \")\n",
    "E_mail=input(\"plz enter ur email \")\n",
    "P_no =input(\"plz enter ur Ph.no. \")\n",
    "print(\"Conforming... \")\n",
    "\n",
    "    \n",
    "def bulkyMail(email,otp):\n",
    "    import smtplib\n",
    "    server = smtplib.SMTP('smtp.gmail.com', 587)\n",
    "    server.starttls()\n",
    "    server.login(\"swiftsnoop@gmail.com\",\"cohesiveforce\")\n",
    "    msg= \"this is test email from python \"+str(otp)\n",
    "    server.sendmail(\"swiftsnoop@gmail.com\",email,msg)\n",
    "    server.quit()\n",
    "    \n",
    "def otpGen():\n",
    "    import random \n",
    "    a = random.randint(1000,9999)\n",
    "    otp = \"Your OTP is \"+str(a)\n",
    "    return a\n",
    "\n",
    "def msgsender(ph_no,otp):\n",
    "    from twilio.rest import Client\n",
    "    # Your account sid amd auth token from twilio.com\n",
    "    account_sid = 'AC04722b09688352de4ad63be76abd2300'\n",
    "    auth_token = 'f300a4df2a3a36952a3766ef01a1b16e'\n",
    "    client = Client(account_sid, auth_token)\n",
    "\n",
    "    message = client.messages.create(\n",
    "                         body=otp,\n",
    "                         from_='+17192248901',\n",
    "                         to=ph_no\n",
    "                        )\n",
    "    print(\"OTP send \"+message.sid)\n",
    "    \n",
    "def call(ph_no):\n",
    "    from twilio.rest import Client\n",
    "    # Your account sid amd auth token from twilio.com\n",
    "    account_sid = 'AC04722b09688352de4ad63be76abd2300'\n",
    "    auth_token = 'f300a4df2a3a36952a3766ef01a1b16e'\n",
    "    client = Client(account_sid, auth_token)\n",
    "   \n",
    "    call = client.calls.create(\n",
    "    from_='+17192248901',\n",
    "    to=ph_no,\n",
    "    url=\"http://demo.twilio.com/docs/voice.xml\"\n",
    "    )\n",
    "\n",
    "    print(\"calling...\"+call.sid)\n",
    "\n",
    "otp=otpGen()\n",
    "bulkyMail(E_mail,otp)\n",
    "msgsender(P_no,otp)\n",
    "\n",
    "con_otp=int(input(\"Enter O.T.P we send u to ur mantioned E-Mail and Ph.no\"))\n",
    "\n",
    "\n",
    "\n",
    "if con_otp == otp:\n",
    "    print(\"conformed.\")\n",
    "    print(\"Wellcome \"+user_name+\" ur call is on the way\")\n",
    "    call(P_no)\n",
    "else:\n",
    "    print(\"Wrong OTP\")\n",
    "    \n",
    "    \n",
    "\n"
   ]
  },
  {
   "cell_type": "markdown",
   "metadata": {},
   "source": [
    "# Email with attachment and subject"
   ]
  },
  {
   "cell_type": "code",
   "execution_count": 5,
   "metadata": {},
   "outputs": [
    {
     "data": {
      "text/plain": [
       "(221, b'2.0.0 closing connection f20sm92195697pfn.177 - gsmtp')"
      ]
     },
     "execution_count": 5,
     "metadata": {},
     "output_type": "execute_result"
    }
   ],
   "source": [
    "import smtplib \n",
    "from email.mime.multipart import MIMEMultipart \n",
    "from email.mime.text import MIMEText \n",
    "from email.mime.base import MIMEBase \n",
    "from email import encoders \n",
    "\n",
    "msg = MIMEMultipart() \n",
    "    \n",
    "msg['From'] = \"swiftsnoop@gmail.com\"\n",
    "msg['To'] = \"nishantarya80@gmail.com\"  \n",
    "msg['Subject'] = \"Test\"\n",
    "  \n",
    "body = \"this is test email from python\"\n",
    "   \n",
    "msg.attach(MIMEText(body, 'plain')) \n",
    "  \n",
    "filename = \"text.txt\"\n",
    "attachment = open(\"text.txt\", \"rb\") \n",
    "  \n",
    "p = MIMEBase('application', 'octet-stream')  \n",
    "p.set_payload((attachment).read()) \n",
    "encoders.encode_base64(p) \n",
    "   \n",
    "p.add_header('Content-Disposition', \"attachment; filename= %s\" % filename) \n",
    "   \n",
    "msg.attach(p) \n",
    "  \n",
    "s = smtplib.SMTP('smtp.gmail.com', 587) \n",
    "s.starttls() \n",
    "s.login(\"swiftsnoop@gmail.com\",\"cohesiveforce\") \n",
    "  \n",
    "text = msg.as_string() \n",
    "   \n",
    "s.sendmail(\"swiftsnoop@gmail.com\",\"nishantarya80@gmail.com\", text) \n",
    "s.quit() "
   ]
  }
 ],
 "metadata": {
  "kernelspec": {
   "display_name": "Python 3",
   "language": "python",
   "name": "python3"
  },
  "language_info": {
   "codemirror_mode": {
    "name": "ipython",
    "version": 3
   },
   "file_extension": ".py",
   "mimetype": "text/x-python",
   "name": "python",
   "nbconvert_exporter": "python",
   "pygments_lexer": "ipython3",
   "version": "3.6.8"
  }
 },
 "nbformat": 4,
 "nbformat_minor": 2
}
