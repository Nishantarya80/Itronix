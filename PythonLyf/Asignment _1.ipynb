{
 "cells": [
  {
   "cell_type": "markdown",
   "metadata": {},
   "source": [
    "# Question 1 : +ve -ve no."
   ]
  },
  {
   "cell_type": "code",
   "execution_count": 4,
   "metadata": {
    "scrolled": true
   },
   "outputs": [
    {
     "name": "stdout",
     "output_type": "stream",
     "text": [
      "Enter a no-5\n",
      "No is -ve\n"
     ]
    }
   ],
   "source": [
    "a=int(input(\"Enter a no.\"))\n",
    "if a>0:\n",
    "    print(\"No is +ve\")\n",
    "elif a<0:\n",
    "    print(\"No is -ve\")"
   ]
  },
  {
   "cell_type": "markdown",
   "metadata": {},
   "source": [
    "# Question 2 : Greatest bw two no."
   ]
  },
  {
   "cell_type": "code",
   "execution_count": 8,
   "metadata": {},
   "outputs": [
    {
     "name": "stdout",
     "output_type": "stream",
     "text": [
      "Enter first no.5\n",
      "Enter second no.867\n",
      "Greatest no. is  867\n"
     ]
    }
   ],
   "source": [
    "a= int(input(\"Enter first no.\"))\n",
    "b= int(input(\"Enter second no.\"))\n",
    "if a>b:\n",
    "   print(\"Greter no. is \", a)\n",
    "elif b>a:\n",
    "    print(\"Greatest no. is \", b)\n",
    "else:\n",
    "    print(\"both are equal\")"
   ]
  },
  {
   "cell_type": "markdown",
   "metadata": {},
   "source": [
    "# Question 3 : Greatest among three."
   ]
  },
  {
   "cell_type": "code",
   "execution_count": 6,
   "metadata": {},
   "outputs": [
    {
     "name": "stdout",
     "output_type": "stream",
     "text": [
      "Enter first no.12\n",
      "Enter second no.45\n",
      "Enter third no.1\n",
      "Greatest no. is  45\n"
     ]
    }
   ],
   "source": [
    "a= int(input(\"Enter first no.\"))\n",
    "b= int(input(\"Enter second no.\"))\n",
    "c= int(input(\"Enter third no.\"))\n",
    "\n",
    "if a>b:\n",
    "    if a>c:\n",
    "         print(\"Greter no. is \", a)\n",
    "elif b>a:\n",
    "    if b>c:\n",
    "        print(\"Greatest no. is \", b)\n",
    "    else :\n",
    "        print(\"Greatest no is \", c)\n",
    "else :\n",
    "    print(\"both are equal\")\n",
    "    "
   ]
  },
  {
   "cell_type": "markdown",
   "metadata": {},
   "source": [
    "# Question 4 : even odd"
   ]
  },
  {
   "cell_type": "code",
   "execution_count": 5,
   "metadata": {},
   "outputs": [
    {
     "name": "stdout",
     "output_type": "stream",
     "text": [
      "Enter no.5445\n",
      "5445  is odd\n"
     ]
    }
   ],
   "source": [
    "a= int(input(\"Enter no.\"))\n",
    "if a%2==1:\n",
    "    print (a,\" is odd\")\n",
    "else: \n",
    "    print (a,\" is even\")\n"
   ]
  },
  {
   "cell_type": "markdown",
   "metadata": {},
   "source": [
    "# Question 5: even odd without arth. opp."
   ]
  },
  {
   "cell_type": "code",
   "execution_count": 9,
   "metadata": {},
   "outputs": [
    {
     "name": "stdout",
     "output_type": "stream",
     "text": [
      "enter no13\n",
      "13  is odd\n"
     ]
    }
   ],
   "source": [
    "a= int(input(\"enter no\"))\n",
    "if a&1:\n",
    "    print(a, \" is odd\")\n",
    "else:     \n",
    "    print(a, \" is even\")"
   ]
  },
  {
   "cell_type": "markdown",
   "metadata": {},
   "source": [
    "# Question 6:even odd when no. is greter then 6"
   ]
  },
  {
   "cell_type": "code",
   "execution_count": 2,
   "metadata": {},
   "outputs": [
    {
     "name": "stdout",
     "output_type": "stream",
     "text": [
      "Enter no.5\n",
      "invalid no\n"
     ]
    }
   ],
   "source": [
    "a= int(input(\"Enter no.\"))\n",
    "if a>6:\n",
    "    if a%2==1:\n",
    "        print (a,\" is odd\")\n",
    "    else: \n",
    "        print (a,\" is even\")\n",
    "else :\n",
    "    print (\"invalid no\")\n"
   ]
  },
  {
   "cell_type": "code",
   "execution_count": null,
   "metadata": {},
   "outputs": [],
   "source": []
  }
 ],
 "metadata": {
  "kernelspec": {
   "display_name": "Python 3",
   "language": "python",
   "name": "python3"
  },
  "language_info": {
   "codemirror_mode": {
    "name": "ipython",
    "version": 3
   },
   "file_extension": ".py",
   "mimetype": "text/x-python",
   "name": "python",
   "nbconvert_exporter": "python",
   "pygments_lexer": "ipython3",
   "version": "3.6.8"
  },
  "widgets": {
   "application/vnd.jupyter.widget-state+json": {
    "state": {},
    "version_major": 2,
    "version_minor": 0
   }
  }
 },
 "nbformat": 4,
 "nbformat_minor": 2
}
